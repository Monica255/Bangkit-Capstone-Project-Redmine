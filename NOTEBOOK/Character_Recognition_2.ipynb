{
  "nbformat": 4,
  "nbformat_minor": 0,
  "metadata": {
    "colab": {
      "name": "OCR-Capston-Felix #4.ipynb",
      "provenance": [],
      "collapsed_sections": [
        "uVq7mT4e8kGK"
      ]
    },
    "kernelspec": {
      "name": "python3",
      "display_name": "Python 3"
    },
    "language_info": {
      "name": "python"
    }
  },
  "cells": [
    {
      "cell_type": "code",
      "execution_count": 24,
      "metadata": {
        "id": "IO6k14Rw8XZr"
      },
      "outputs": [],
      "source": [
        "from google.colab import files, drive\n",
        "import os\n",
        "from tensorflow.keras.preprocessing.image import img_to_array, load_img, ImageDataGenerator\n",
        "from tensorflow.keras.models import *\n",
        "from tensorflow.keras.layers import *\n",
        "import zipfile\n",
        "from tensorflow import keras\n",
        "import tensorflow as tf\n",
        "import cv2\n",
        "import numpy as np\n",
        "import matplotlib.pyplot as plt\n",
        "import csv\n",
        "from keras.datasets import mnist\n",
        "from sklearn.model_selection import train_test_split\n"
      ]
    },
    {
      "cell_type": "code",
      "source": [
        "drive.mount('/content/drive')"
      ],
      "metadata": {
        "colab": {
          "base_uri": "https://localhost:8080/"
        },
        "id": "GgRUNuOrIxj3",
        "outputId": "aebc63de-d5de-4be5-fa4f-908017ffe23d"
      },
      "execution_count": 25,
      "outputs": [
        {
          "output_type": "stream",
          "name": "stdout",
          "text": [
            "Drive already mounted at /content/drive; to attempt to forcibly remount, call drive.mount(\"/content/drive\", force_remount=True).\n"
          ]
        }
      ]
    },
    {
      "cell_type": "markdown",
      "source": [
        "# Kaggle API"
      ],
      "metadata": {
        "id": "uVq7mT4e8kGK"
      }
    },
    {
      "cell_type": "code",
      "source": [
        "# #you need to create your own API first in kaggle\n",
        "# #upload kaggle json\n",
        "\n",
        "# files.upload()"
      ],
      "metadata": {
        "id": "5SBvkU168may"
      },
      "execution_count": 26,
      "outputs": []
    },
    {
      "cell_type": "code",
      "source": [
        "# #create a kaggle folder\n",
        "# !mkdir ~/.kaggle"
      ],
      "metadata": {
        "id": "DKd_IRM18oqA"
      },
      "execution_count": 27,
      "outputs": []
    },
    {
      "cell_type": "code",
      "source": [
        "# #copy kaggle.json to folder created\n",
        "# !cp kaggle.json ~/.kaggle/\n",
        "\n",
        "# #permission for the json to act\n",
        "# ! chmod 600 ~/.kaggle/kaggle.json"
      ],
      "metadata": {
        "id": "KTWuNXzD8p5Q"
      },
      "execution_count": 28,
      "outputs": []
    },
    {
      "cell_type": "code",
      "source": [
        "# # A-Z Dataset\n",
        "# !kaggle kernels pull code/naaggss/starter-handwritten-a-z-66906975-6"
      ],
      "metadata": {
        "id": "0DFRibMl8rPo"
      },
      "execution_count": 29,
      "outputs": []
    },
    {
      "cell_type": "markdown",
      "source": [
        "# Load A-Z Dataset"
      ],
      "metadata": {
        "id": "Pm4PE05X_3wY"
      }
    },
    {
      "cell_type": "code",
      "source": [
        "test_local_zip = '/content/drive/MyDrive/ML Capstone Bangkit/Dataset/handwritten_data_785.csv.zip'\n",
        "zip_ref = zipfile.ZipFile(test_local_zip, 'r')\n",
        "zip_ref.extractall('/tmp/dataset')\n",
        "\n",
        "zip_ref.close()"
      ],
      "metadata": {
        "id": "qSX7bFCT_5rH"
      },
      "execution_count": null,
      "outputs": []
    },
    {
      "cell_type": "code",
      "source": [
        "os.listdir('/tmp/dataset/')"
      ],
      "metadata": {
        "id": "jcMjKjvxADwe"
      },
      "execution_count": null,
      "outputs": []
    },
    {
      "cell_type": "code",
      "source": [
        "alphabet_data = '/tmp/dataset/handwritten_data_785.csv'\n",
        "aZ_data = []\n",
        "aZ_labels = []\n",
        "\n",
        "files = open(alphabet_data)\n",
        "\n",
        "for row in files:\n",
        "  row  = row.split(',')\n",
        "\n",
        "  #append labels. Row 0 = labels / header\n",
        "  aZ_labels.append(int(row[0]))\n",
        "\n",
        "  #append labels. Row 1:\n",
        "  image = np.array([int(x) for x in row[1:]], dtype=\"uint8\")\n",
        "  img = image.reshape((28,28))\n",
        "  aZ_data.append(img)\n",
        "\n",
        "aZ_labels = np.array(aZ_labels, dtype = 'int')\n",
        "aZ_data = np.array(aZ_data, dtype='float32')"
      ],
      "metadata": {
        "id": "O247Te2NAJ8X"
      },
      "execution_count": null,
      "outputs": []
    },
    {
      "cell_type": "code",
      "source": [
        "print(len(aZ_labels))\n",
        "print(len(aZ_data))"
      ],
      "metadata": {
        "id": "bjzDzQVATJlR"
      },
      "execution_count": null,
      "outputs": []
    },
    {
      "cell_type": "code",
      "source": [
        "print(aZ_labels[-1])\n",
        "print(aZ_data[-1].shape)"
      ],
      "metadata": {
        "id": "IKP84J_zTPeY"
      },
      "execution_count": null,
      "outputs": []
    },
    {
      "cell_type": "markdown",
      "source": [
        "# Load MNIST Digit Dataset"
      ],
      "metadata": {
        "id": "cspBODIGY59C"
      }
    },
    {
      "cell_type": "code",
      "source": [
        "(train_digit_data, train_digit_labels), (test_digit_data, test_digit_labels) = mnist.load_data()\n",
        "\n",
        "digit_data = np.vstack([train_digit_data, test_digit_data])\n",
        "digit_labels = np.hstack([train_digit_labels, test_digit_labels])"
      ],
      "metadata": {
        "id": "2x0C6qBqY4ks"
      },
      "execution_count": null,
      "outputs": []
    },
    {
      "cell_type": "code",
      "source": [
        "# from matplotlib import pyplot\n",
        "# for i in range(9):  \n",
        "#   pyplot.subplot(330 + 1 + i)\n",
        "#   pyplot.title('label: {}'.format(digit_labels[i]))\n",
        "#   pyplot.imshow(digit_data[i], cmap=pyplot.get_cmap('gray'))\n",
        "#   pyplot.show()"
      ],
      "metadata": {
        "id": "iYv3MgdLZJhy"
      },
      "execution_count": null,
      "outputs": []
    },
    {
      "cell_type": "code",
      "source": [
        "# the MNIST dataset occupies the labels 0-9, so let's add 10 to every A-Z label to ensure the A-Z characters are not incorrectly labeled \n",
        "\n",
        "aZ_labels += 10\n",
        "\n",
        "# stack the A-Z data and labels with the MNIST digits data and labels\n",
        "\n",
        "data = np.vstack([aZ_data, digit_data])\n",
        "labels = np.hstack([aZ_labels, digit_labels])\n",
        "\n",
        "# Each image in the A-Z and MNIST digts datasets are 28x28 pixels;\n",
        "# However, the architecture we're using is designed for 32x32 images,\n",
        "# So we need to resize them to 32x32\n",
        "\n",
        "data = [cv2.resize(image, (32, 32)) for image in data]\n",
        "data = np.array(data, dtype=\"float32\")\n",
        "\n",
        "# add a channel dimension to every image in the dataset and scale the\n",
        "# pixel intensities of the images from [0, 255] down to [0, 1]\n",
        "\n",
        "data = np.expand_dims(data, axis=-1)\n",
        "data /= 255.0"
      ],
      "metadata": {
        "id": "MTeDWUSIbaqi"
      },
      "execution_count": null,
      "outputs": []
    },
    {
      "cell_type": "code",
      "source": [
        "print(len(aZ_labels))"
      ],
      "metadata": {
        "id": "3CV-NL1kRtxE"
      },
      "execution_count": null,
      "outputs": []
    },
    {
      "cell_type": "code",
      "source": [
        "print(\"amount of data: {}\".format(len(data)))\n",
        "print(\"amount of labels: {}\".format(len(labels)))\n",
        "print(\"amount of class: {}\".format(len(np.unique(labels))))"
      ],
      "metadata": {
        "id": "6ITSYNIhWJTY"
      },
      "execution_count": null,
      "outputs": []
    },
    {
      "cell_type": "code",
      "source": [
        "#split data\n",
        "# Split Dataset\n",
        "x_train, x_test, y_train, y_test = train_test_split(data, labels, train_size = 0.8)\n",
        "\n",
        "x_train = np.array(x_train)\n",
        "x_test = np.array(x_test)\n",
        "\n",
        "y_train = np.array(y_train)\n",
        "y_test = np.array(y_test)"
      ],
      "metadata": {
        "id": "WJiutEEvcwWg"
      },
      "execution_count": null,
      "outputs": []
    },
    {
      "cell_type": "code",
      "source": [
        "print(\"amount of train data: {}\".format(len(x_train)))\n",
        "print(\"amount of test data: {}\".format(len(x_test)))\n",
        "print(\"shape of data: {}\".format(x_train.shape[1:4]))"
      ],
      "metadata": {
        "id": "7pUUDiNNdYGP"
      },
      "execution_count": null,
      "outputs": []
    },
    {
      "cell_type": "code",
      "source": [
        "img_size = 32\n",
        "EPOCHS = 100\n",
        "INIT_LR = 1e-1\n",
        "batch_size = 128"
      ],
      "metadata": {
        "id": "_VF9WizbPfzq"
      },
      "execution_count": null,
      "outputs": []
    },
    {
      "cell_type": "code",
      "source": [
        "# construct the image generator for data augmentation\n",
        "train_aug = ImageDataGenerator(\n",
        "  rescale = 1./255,\n",
        "  rotation_range=10,\n",
        "  zoom_range=0.05,\n",
        "  width_shift_range=0.1,\n",
        "  height_shift_range=0.1,\n",
        "  shear_range=0.15,\n",
        "  horizontal_flip=False,\n",
        "  fill_mode=\"nearest\")\n",
        "\n",
        "valid_aug = ImageDataGenerator(\n",
        "    rescale = 1./255\n",
        ")\n",
        "train_datagen = train_aug.flow(x_train, y_train, batch_size = batch_size)\n",
        "\n",
        "validation_datagen = valid_aug.flow(x_test, y_test, batch_size = batch_size)"
      ],
      "metadata": {
        "id": "tQ6hLu8-cSuM"
      },
      "execution_count": null,
      "outputs": []
    },
    {
      "cell_type": "code",
      "source": [
        "model = tf.keras.Sequential([\n",
        "      tf.keras.layers.Conv2D(32,(3,3), activation ='relu', input_shape=(32,32,1)),\n",
        "      tf.keras.layers.MaxPooling2D(2,2),\n",
        "      tf.keras.layers.Conv2D(64,(3,3), activation ='relu'),\n",
        "      tf.keras.layers.MaxPooling2D(2,2),\n",
        "      tf.keras.layers.Conv2D(128,(3,3), activation ='relu'),\n",
        "      tf.keras.layers.MaxPooling2D(2,2),\n",
        "\n",
        "      tf.keras.layers.Flatten(),\n",
        "      tf.keras.layers.Dropout(0.5),\n",
        " \n",
        "      tf.keras.layers.Dense(512, activation = 'relu'),\n",
        "      tf.keras.layers.Dense(36, activation='softmax'),\n",
        "\n",
        "])\n",
        "model.build(input_shape = (None, 32, 32, 1))\n",
        "model.summary()"
      ],
      "metadata": {
        "id": "E64WMCxycaT4"
      },
      "execution_count": null,
      "outputs": []
    },
    {
      "cell_type": "code",
      "source": [
        "# model = ResNet.build(32, 32, 1, len(le.classes_), (3, 3, 3),\n",
        "# # (64, 64, 128, 256), reg=0.0005)\n",
        "model.compile(loss = 'sparse_categorical_crossentropy',\n",
        "              optimizer = 'adam',\n",
        "              metrics = ['accuracy'])"
      ],
      "metadata": {
        "id": "81RJEKy9dEvj"
      },
      "execution_count": null,
      "outputs": []
    },
    {
      "cell_type": "code",
      "source": [
        "History = model.fit(\n",
        "train_datagen,\n",
        "validation_data=validation_datagen,\n",
        "steps_per_epoch=len(x_train) // batch_size, \n",
        "epochs=EPOCHS,\n",
        "verbose=2)"
      ],
      "metadata": {
        "id": "nQLq5e1NdHcv"
      },
      "execution_count": null,
      "outputs": []
    },
    {
      "cell_type": "code",
      "source": [
        "!mkdir -p ocr_model\n",
        "model.save('ocr-model-Felix-4.h5')"
      ],
      "metadata": {
        "id": "bAOaM7yVr9UY"
      },
      "execution_count": null,
      "outputs": []
    },
    {
      "cell_type": "code",
      "source": [
        "model = load_model('ocr-model-Felix-4.h5')"
      ],
      "metadata": {
        "id": "6zkBk6SgsFcF"
      },
      "execution_count": null,
      "outputs": []
    },
    {
      "cell_type": "markdown",
      "source": [
        ""
      ],
      "metadata": {
        "id": "GbgubI4iZdJa"
      }
    }
  ]
}