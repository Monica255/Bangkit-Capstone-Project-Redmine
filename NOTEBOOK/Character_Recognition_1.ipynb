{
  "nbformat": 4,
  "nbformat_minor": 0,
  "metadata": {
    "colab": {
      "name": " OCR-Capstopne-Felix #1.ipynb",
      "provenance": [],
      "collapsed_sections": []
    },
    "kernelspec": {
      "name": "python3",
      "display_name": "Python 3"
    },
    "language_info": {
      "name": "python"
    },
    "accelerator": "GPU"
  },
  "cells": [
    {
      "cell_type": "code",
      "execution_count": null,
      "metadata": {
        "id": "zronQk0AJRwu"
      },
      "outputs": [],
      "source": [
        "from google.colab import files, drive\n",
        "import os\n",
        "from tensorflow.keras.preprocessing.image import img_to_array, load_img, ImageDataGenerator\n",
        "from tensorflow.keras.models import *\n",
        "import zipfile\n",
        "from tensorflow import keras\n",
        "import tensorflow as tf\n",
        "import cv2\n",
        "import numpy as np\n",
        "import matplotlib.pyplot as plt\n"
      ]
    },
    {
      "cell_type": "markdown",
      "source": [
        "# Kaggle API"
      ],
      "metadata": {
        "id": "ZbE6h9IGJnc9"
      }
    },
    {
      "cell_type": "code",
      "source": [
        "#you need to create your own API first in kaggle\n",
        "#upload kaggle json\n",
        "\n",
        "files.upload()"
      ],
      "metadata": {
        "id": "yPCtjYjyJi9R",
        "colab": {
          "resources": {
            "http://localhost:8080/nbextensions/google.colab/files.js": {
              "data": "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",
              "ok": true,
              "headers": [
                [
                  "content-type",
                  "application/javascript"
                ]
              ],
              "status": 200,
              "status_text": ""
            }
          },
          "base_uri": "https://localhost:8080/",
          "height": 91
        },
        "outputId": "c7961d33-c318-4b9e-dcc1-2340879a32eb"
      },
      "execution_count": null,
      "outputs": [
        {
          "output_type": "display_data",
          "data": {
            "text/plain": [
              "<IPython.core.display.HTML object>"
            ],
            "text/html": [
              "\n",
              "     <input type=\"file\" id=\"files-b735f004-537b-49eb-adee-dc0f9cbd9275\" name=\"files[]\" multiple disabled\n",
              "        style=\"border:none\" />\n",
              "     <output id=\"result-b735f004-537b-49eb-adee-dc0f9cbd9275\">\n",
              "      Upload widget is only available when the cell has been executed in the\n",
              "      current browser session. Please rerun this cell to enable.\n",
              "      </output>\n",
              "      <script src=\"/nbextensions/google.colab/files.js\"></script> "
            ]
          },
          "metadata": {}
        },
        {
          "output_type": "stream",
          "name": "stdout",
          "text": [
            "Saving kaggle.json to kaggle.json\n"
          ]
        },
        {
          "output_type": "execute_result",
          "data": {
            "text/plain": [
              "{'kaggle.json': b'{\"username\":\"felixpratama\",\"key\":\"a3f1e3c240e43be127334f9fe19c9a0e\"}'}"
            ]
          },
          "metadata": {},
          "execution_count": 2
        }
      ]
    },
    {
      "cell_type": "code",
      "source": [
        "#create a kaggle folder\n",
        "!mkdir ~/.kaggle"
      ],
      "metadata": {
        "id": "0cDNdgQOJkHC"
      },
      "execution_count": null,
      "outputs": []
    },
    {
      "cell_type": "code",
      "source": [
        "#copy kaggle.json to folder created\n",
        "!cp kaggle.json ~/.kaggle/\n",
        "\n",
        "#permission for the json to act\n",
        "! chmod 600 ~/.kaggle/kaggle.json"
      ],
      "metadata": {
        "id": "SgkGSLa3JlR1"
      },
      "execution_count": null,
      "outputs": []
    },
    {
      "cell_type": "code",
      "source": [
        "!kaggle datasets download -d preatcher/standard-ocr-dataset"
      ],
      "metadata": {
        "id": "GqlZwgqQJmue",
        "colab": {
          "base_uri": "https://localhost:8080/"
        },
        "outputId": "8a7cfcf7-a8e2-48f3-c383-0ae117d783eb"
      },
      "execution_count": null,
      "outputs": [
        {
          "output_type": "stream",
          "name": "stdout",
          "text": [
            "Downloading standard-ocr-dataset.zip to /content\n",
            " 56% 26.0M/46.2M [00:00<00:00, 135MB/s] \n",
            "100% 46.2M/46.2M [00:00<00:00, 167MB/s]\n"
          ]
        }
      ]
    },
    {
      "cell_type": "markdown",
      "source": [
        "# Load Image"
      ],
      "metadata": {
        "id": "vHzyEaTvKIp1"
      }
    },
    {
      "cell_type": "code",
      "source": [
        "test_local_zip = '/content/standard-ocr-dataset.zip'\n",
        "zip_ref = zipfile.ZipFile(test_local_zip, 'r')\n",
        "zip_ref.extractall('/tmp/dataset')\n",
        "\n",
        "zip_ref.close()"
      ],
      "metadata": {
        "id": "pSTof2Y3KIHY"
      },
      "execution_count": null,
      "outputs": []
    },
    {
      "cell_type": "code",
      "source": [
        "os.listdir('/tmp/dataset')"
      ],
      "metadata": {
        "colab": {
          "base_uri": "https://localhost:8080/"
        },
        "id": "BmIie66-6xJI",
        "outputId": "9957b668-deeb-486e-f42d-43772636bc1f"
      },
      "execution_count": null,
      "outputs": [
        {
          "output_type": "execute_result",
          "data": {
            "text/plain": [
              "['data', 'data2']"
            ]
          },
          "metadata": {},
          "execution_count": 7
        }
      ]
    },
    {
      "cell_type": "code",
      "source": [
        "source_dir = '/tmp/dataset/data'\n",
        "os.listdir(source_dir)"
      ],
      "metadata": {
        "colab": {
          "base_uri": "https://localhost:8080/"
        },
        "id": "fNHIOtuM5ntL",
        "outputId": "4d5f9848-2067-4fcb-e875-ee2c19c482fe"
      },
      "execution_count": null,
      "outputs": [
        {
          "output_type": "execute_result",
          "data": {
            "text/plain": [
              "['training_data', 'testing_data']"
            ]
          },
          "metadata": {},
          "execution_count": 8
        }
      ]
    },
    {
      "cell_type": "code",
      "source": [
        "training_data_dir = os.path.join(source_dir, 'training_data')\n",
        "validation_data_dir = os.path.join(source_dir, 'testing_data')"
      ],
      "metadata": {
        "id": "9-jWlFXd684-"
      },
      "execution_count": null,
      "outputs": []
    },
    {
      "cell_type": "code",
      "source": [
        "print('len of folders in training data dir: {}'.format(len(os.listdir(training_data_dir))))\n",
        "print('len of folders in validation data dir: {}'.format(len(os.listdir(validation_data_dir))))"
      ],
      "metadata": {
        "colab": {
          "base_uri": "https://localhost:8080/"
        },
        "id": "jR60bd-s7Xmj",
        "outputId": "d400a8f0-3930-4a78-aab4-9f50007aa2e5"
      },
      "execution_count": null,
      "outputs": [
        {
          "output_type": "stream",
          "name": "stdout",
          "text": [
            "len of folders in training data dir: 36\n",
            "len of folders in validation data dir: 36\n"
          ]
        }
      ]
    },
    {
      "cell_type": "code",
      "source": [
        "k = os.listdir(training_data_dir)[0]\n",
        "k = os.path.join(training_data_dir, k)"
      ],
      "metadata": {
        "id": "cgvUQQ4bLn3I"
      },
      "execution_count": null,
      "outputs": []
    },
    {
      "cell_type": "code",
      "source": [
        "print(k)"
      ],
      "metadata": {
        "colab": {
          "base_uri": "https://localhost:8080/"
        },
        "id": "4sZs7xUJMysK",
        "outputId": "b304e1da-3732-4419-d85a-92b7c81ff500"
      },
      "execution_count": null,
      "outputs": [
        {
          "output_type": "stream",
          "name": "stdout",
          "text": [
            "/tmp/dataset/data/training_data/G\n"
          ]
        }
      ]
    },
    {
      "cell_type": "code",
      "source": [
        "k_img = []\n",
        "for index in range (len(k)):\n",
        "  img = cv2.imread(os.path.join(k, os.listdir(k)[index]))\n",
        "  k_img.append(img)"
      ],
      "metadata": {
        "id": "t1o4eMBNMOic"
      },
      "execution_count": null,
      "outputs": []
    },
    {
      "cell_type": "code",
      "source": [
        "k_img[0].shape"
      ],
      "metadata": {
        "colab": {
          "base_uri": "https://localhost:8080/"
        },
        "id": "Mgh8AdeCM7Q9",
        "outputId": "5f441809-711a-498b-dd9f-7be956a2a2c8"
      },
      "execution_count": null,
      "outputs": [
        {
          "output_type": "execute_result",
          "data": {
            "text/plain": [
              "(39, 27, 3)"
            ]
          },
          "metadata": {},
          "execution_count": 14
        }
      ]
    },
    {
      "cell_type": "markdown",
      "source": [
        "# Preprocessing Image"
      ],
      "metadata": {
        "id": "rucdzoiiBoX9"
      }
    },
    {
      "cell_type": "code",
      "source": [
        "# ret,thresh1 = cv2.threshold(im1,180,255,cv2.THRESH_BINARY_INV)\n",
        "# kernel = np.ones((5,5),np.uint8)\n",
        "# dilated = cv2.dilate(thresh1,kernel,iterations = 2)\n",
        "# _,contours, hierarchy = cv2.findContours(dilated,cv2.RETR_TREE,cv2.CHAIN_APPROX_SIMPLE)\n",
        "# cordinates = []\n",
        "# for cnt in contours:\n",
        "#     x,y,w,h = cv2.boundingRect(cnt)\n",
        "#     cordinates.append((x,y,w,h))\n",
        "#     #bound the images\n",
        "#     cv2.rectangle(im,(x,y),(x+w,y+h),(0,255,0),1)\n",
        "\n",
        "# cv2.namedWindow('BindingBox', cv2.WINDOW_NORMAL)\n",
        "# cv2.imwrite('content/BindingBox4.jpg',im)"
      ],
      "metadata": {
        "id": "wZWSFgQpHS9l"
      },
      "execution_count": null,
      "outputs": []
    },
    {
      "cell_type": "code",
      "source": [
        "img_size = 128\n",
        "input_shape = (128,128,1)"
      ],
      "metadata": {
        "id": "gS5gWq9BrJ9-"
      },
      "execution_count": null,
      "outputs": []
    },
    {
      "cell_type": "code",
      "source": [
        "train_datagen = ImageDataGenerator(\n",
        "    rescale = 1./255,\n",
        "    width_shift_range = 0.2,\n",
        "    height_shift_range = 0.2,\n",
        "    shear_range = 0.2,\n",
        "    zoom_range = 0.2,\n",
        "    horizontal_flip = True,\n",
        "    fill_mode = 'nearest'\n",
        ")\n",
        "\n",
        "validation_datagen = ImageDataGenerator(\n",
        "    rescale = 1./255\n",
        ")\n",
        "\n",
        "training_generator = train_datagen.flow_from_directory(training_data_dir,\n",
        "                                                 target_size = (img_size, img_size),\n",
        "                                                 batch_size = 382,  # 20628 // 54 = 382\n",
        "                                                 color_mode = 'grayscale',\n",
        "                                                 class_mode = 'categorical',\n",
        "    \n",
        ")\n",
        "\n",
        "validation_generator = validation_datagen.flow_from_directory(validation_data_dir,\n",
        "                                                 target_size = (img_size, img_size),\n",
        "                                                 batch_size = 36, #1008 // 28 = 36 \n",
        "                                                 color_mode = 'grayscale',\n",
        "                                                 class_mode = 'categorical',\n",
        "    \n",
        ")"
      ],
      "metadata": {
        "colab": {
          "base_uri": "https://localhost:8080/"
        },
        "id": "Sqjqbczu8cSa",
        "outputId": "cf63b96d-948a-466c-eac4-39c78058bfd2"
      },
      "execution_count": null,
      "outputs": [
        {
          "output_type": "stream",
          "name": "stdout",
          "text": [
            "Found 20628 images belonging to 36 classes.\n",
            "Found 1008 images belonging to 36 classes.\n"
          ]
        }
      ]
    },
    {
      "cell_type": "markdown",
      "source": [
        "# Train Model"
      ],
      "metadata": {
        "id": "4q6NkzvaXOoK"
      }
    },
    {
      "cell_type": "code",
      "source": [
        "#make a model\n",
        "\n",
        "# callback = EarlyStopping(monitor = 'val_loss',\n",
        "#                         patience = 3,\n",
        "#                         verbose = 1) \n",
        "\n",
        "\n",
        "model = tf.keras.models.Sequential([\n",
        "      tf.keras.layers.Conv2D(32,(5,5), activation ='relu', input_shape=input_shape), \n",
        "      tf.keras.layers.MaxPooling2D(2,2),\n",
        "      tf.keras.layers.Conv2D(64, (3,3), activation = 'relu'),\n",
        "      tf.keras.layers.MaxPooling2D(2,2),\n",
        "      tf.keras.layers.Conv2D(128, (3,3), activation = 'relu'),\n",
        "      tf.keras.layers.MaxPooling2D(2,2),\n",
        "      tf.keras.layers.Conv2D(256, (3,3), activation = 'relu'),\n",
        "      tf.keras.layers.MaxPooling2D(2,2),\n",
        "\n",
        "      tf.keras.layers.Flatten(),\n",
        "      tf.keras.layers.Dropout(0.2),\n",
        "\n",
        "      tf.keras.layers.Dense(256, activation = 'relu'),\n",
        "      tf.keras.layers.Dense(36, activation='softmax'),\n",
        "\n",
        "\n",
        "\n",
        "])\n",
        "model.summary()"
      ],
      "metadata": {
        "id": "s7-CevdpGVsS",
        "colab": {
          "base_uri": "https://localhost:8080/"
        },
        "outputId": "6aa5819f-64f0-49e2-9e9f-5cfe8ef986c3"
      },
      "execution_count": null,
      "outputs": [
        {
          "output_type": "stream",
          "name": "stdout",
          "text": [
            "Model: \"sequential\"\n",
            "_________________________________________________________________\n",
            " Layer (type)                Output Shape              Param #   \n",
            "=================================================================\n",
            " conv2d (Conv2D)             (None, 124, 124, 32)      832       \n",
            "                                                                 \n",
            " max_pooling2d (MaxPooling2D  (None, 62, 62, 32)       0         \n",
            " )                                                               \n",
            "                                                                 \n",
            " conv2d_1 (Conv2D)           (None, 60, 60, 64)        18496     \n",
            "                                                                 \n",
            " max_pooling2d_1 (MaxPooling  (None, 30, 30, 64)       0         \n",
            " 2D)                                                             \n",
            "                                                                 \n",
            " conv2d_2 (Conv2D)           (None, 28, 28, 128)       73856     \n",
            "                                                                 \n",
            " max_pooling2d_2 (MaxPooling  (None, 14, 14, 128)      0         \n",
            " 2D)                                                             \n",
            "                                                                 \n",
            " conv2d_3 (Conv2D)           (None, 12, 12, 256)       295168    \n",
            "                                                                 \n",
            " max_pooling2d_3 (MaxPooling  (None, 6, 6, 256)        0         \n",
            " 2D)                                                             \n",
            "                                                                 \n",
            " flatten (Flatten)           (None, 9216)              0         \n",
            "                                                                 \n",
            " dropout (Dropout)           (None, 9216)              0         \n",
            "                                                                 \n",
            " dense (Dense)               (None, 256)               2359552   \n",
            "                                                                 \n",
            " dense_1 (Dense)             (None, 36)                9252      \n",
            "                                                                 \n",
            "=================================================================\n",
            "Total params: 2,757,156\n",
            "Trainable params: 2,757,156\n",
            "Non-trainable params: 0\n",
            "_________________________________________________________________\n"
          ]
        }
      ]
    },
    {
      "cell_type": "code",
      "source": [
        "model.compile(loss = 'categorical_crossentropy',\n",
        "              optimizer = 'adam',\n",
        "              metrics = ['accuracy'])"
      ],
      "metadata": {
        "id": "t9FnTp5i4LCs"
      },
      "execution_count": null,
      "outputs": []
    },
    {
      "cell_type": "code",
      "source": [
        "history = model.fit(training_generator,\n",
        "                            steps_per_epoch = 54,\n",
        "                            epochs = 100,\n",
        "                            validation_data = validation_generator,\n",
        "                            validation_steps = 28,\n",
        "                            verbose = 2)"
      ],
      "metadata": {
        "colab": {
          "base_uri": "https://localhost:8080/"
        },
        "id": "3BqKCxyJI9JE",
        "outputId": "a9371f6a-8218-4b6d-dd7e-769841fb9c6d"
      },
      "execution_count": null,
      "outputs": [
        {
          "output_type": "stream",
          "name": "stdout",
          "text": [
            "Epoch 1/100\n",
            "54/54 - 58s - loss: 2.9135 - accuracy: 0.1880 - val_loss: 1.1405 - val_accuracy: 0.6518 - 58s/epoch - 1s/step\n",
            "Epoch 2/100\n",
            "54/54 - 43s - loss: 1.4817 - accuracy: 0.5514 - val_loss: 0.4179 - val_accuracy: 0.8968 - 43s/epoch - 787ms/step\n",
            "Epoch 3/100\n",
            "54/54 - 42s - loss: 0.9919 - accuracy: 0.7044 - val_loss: 0.2662 - val_accuracy: 0.9325 - 42s/epoch - 787ms/step\n",
            "Epoch 4/100\n",
            "54/54 - 43s - loss: 0.7738 - accuracy: 0.7702 - val_loss: 0.1890 - val_accuracy: 0.9435 - 43s/epoch - 789ms/step\n",
            "Epoch 5/100\n",
            "54/54 - 42s - loss: 0.6591 - accuracy: 0.8068 - val_loss: 0.2050 - val_accuracy: 0.9315 - 42s/epoch - 784ms/step\n",
            "Epoch 6/100\n",
            "54/54 - 42s - loss: 0.5790 - accuracy: 0.8297 - val_loss: 0.1339 - val_accuracy: 0.9573 - 42s/epoch - 786ms/step\n",
            "Epoch 7/100\n",
            "54/54 - 42s - loss: 0.5293 - accuracy: 0.8438 - val_loss: 0.2073 - val_accuracy: 0.9167 - 42s/epoch - 787ms/step\n",
            "Epoch 8/100\n",
            "54/54 - 42s - loss: 0.4852 - accuracy: 0.8559 - val_loss: 0.1015 - val_accuracy: 0.9623 - 42s/epoch - 784ms/step\n",
            "Epoch 9/100\n",
            "54/54 - 42s - loss: 0.4150 - accuracy: 0.8759 - val_loss: 0.0898 - val_accuracy: 0.9573 - 42s/epoch - 786ms/step\n",
            "Epoch 10/100\n",
            "54/54 - 42s - loss: 0.4327 - accuracy: 0.8697 - val_loss: 0.0861 - val_accuracy: 0.9633 - 42s/epoch - 783ms/step\n",
            "Epoch 11/100\n",
            "54/54 - 42s - loss: 0.3901 - accuracy: 0.8802 - val_loss: 0.0715 - val_accuracy: 0.9792 - 42s/epoch - 782ms/step\n",
            "Epoch 12/100\n",
            "54/54 - 42s - loss: 0.3768 - accuracy: 0.8839 - val_loss: 0.0604 - val_accuracy: 0.9752 - 42s/epoch - 781ms/step\n",
            "Epoch 13/100\n",
            "54/54 - 42s - loss: 0.3517 - accuracy: 0.8902 - val_loss: 0.0692 - val_accuracy: 0.9772 - 42s/epoch - 782ms/step\n",
            "Epoch 14/100\n",
            "54/54 - 42s - loss: 0.3344 - accuracy: 0.8992 - val_loss: 0.0558 - val_accuracy: 0.9802 - 42s/epoch - 784ms/step\n",
            "Epoch 15/100\n",
            "54/54 - 42s - loss: 0.3099 - accuracy: 0.9047 - val_loss: 0.0828 - val_accuracy: 0.9663 - 42s/epoch - 782ms/step\n",
            "Epoch 16/100\n",
            "54/54 - 42s - loss: 0.3093 - accuracy: 0.9028 - val_loss: 0.0459 - val_accuracy: 0.9841 - 42s/epoch - 784ms/step\n",
            "Epoch 17/100\n",
            "54/54 - 42s - loss: 0.2862 - accuracy: 0.9110 - val_loss: 0.0555 - val_accuracy: 0.9802 - 42s/epoch - 786ms/step\n",
            "Epoch 18/100\n",
            "54/54 - 42s - loss: 0.4161 - accuracy: 0.8714 - val_loss: 0.0704 - val_accuracy: 0.9762 - 42s/epoch - 779ms/step\n",
            "Epoch 19/100\n",
            "54/54 - 42s - loss: 0.2989 - accuracy: 0.9074 - val_loss: 0.0653 - val_accuracy: 0.9792 - 42s/epoch - 778ms/step\n",
            "Epoch 20/100\n",
            "54/54 - 42s - loss: 0.2760 - accuracy: 0.9129 - val_loss: 0.0538 - val_accuracy: 0.9762 - 42s/epoch - 782ms/step\n",
            "Epoch 21/100\n",
            "54/54 - 42s - loss: 0.2679 - accuracy: 0.9153 - val_loss: 0.0495 - val_accuracy: 0.9841 - 42s/epoch - 783ms/step\n",
            "Epoch 22/100\n",
            "54/54 - 42s - loss: 0.2570 - accuracy: 0.9172 - val_loss: 0.0740 - val_accuracy: 0.9792 - 42s/epoch - 782ms/step\n",
            "Epoch 23/100\n",
            "54/54 - 42s - loss: 0.2570 - accuracy: 0.9173 - val_loss: 0.0723 - val_accuracy: 0.9712 - 42s/epoch - 781ms/step\n",
            "Epoch 24/100\n",
            "54/54 - 42s - loss: 0.2591 - accuracy: 0.9170 - val_loss: 0.0374 - val_accuracy: 0.9871 - 42s/epoch - 780ms/step\n",
            "Epoch 25/100\n",
            "54/54 - 42s - loss: 0.2375 - accuracy: 0.9228 - val_loss: 0.0402 - val_accuracy: 0.9861 - 42s/epoch - 780ms/step\n",
            "Epoch 26/100\n",
            "54/54 - 42s - loss: 0.2327 - accuracy: 0.9258 - val_loss: 0.0483 - val_accuracy: 0.9782 - 42s/epoch - 779ms/step\n",
            "Epoch 27/100\n",
            "54/54 - 42s - loss: 0.2270 - accuracy: 0.9273 - val_loss: 0.0656 - val_accuracy: 0.9683 - 42s/epoch - 778ms/step\n",
            "Epoch 28/100\n",
            "54/54 - 42s - loss: 0.2368 - accuracy: 0.9227 - val_loss: 0.0409 - val_accuracy: 0.9841 - 42s/epoch - 781ms/step\n",
            "Epoch 29/100\n",
            "54/54 - 42s - loss: 0.2260 - accuracy: 0.9266 - val_loss: 0.0590 - val_accuracy: 0.9732 - 42s/epoch - 783ms/step\n",
            "Epoch 30/100\n",
            "54/54 - 42s - loss: 0.2261 - accuracy: 0.9248 - val_loss: 0.0390 - val_accuracy: 0.9851 - 42s/epoch - 783ms/step\n",
            "Epoch 31/100\n",
            "54/54 - 42s - loss: 0.2185 - accuracy: 0.9302 - val_loss: 0.0432 - val_accuracy: 0.9861 - 42s/epoch - 786ms/step\n",
            "Epoch 32/100\n",
            "54/54 - 42s - loss: 0.2155 - accuracy: 0.9273 - val_loss: 0.0359 - val_accuracy: 0.9841 - 42s/epoch - 780ms/step\n",
            "Epoch 33/100\n",
            "54/54 - 42s - loss: 0.2104 - accuracy: 0.9314 - val_loss: 0.0421 - val_accuracy: 0.9871 - 42s/epoch - 779ms/step\n",
            "Epoch 34/100\n",
            "54/54 - 42s - loss: 0.2061 - accuracy: 0.9316 - val_loss: 0.0467 - val_accuracy: 0.9821 - 42s/epoch - 785ms/step\n",
            "Epoch 35/100\n",
            "54/54 - 42s - loss: 0.2052 - accuracy: 0.9319 - val_loss: 0.0491 - val_accuracy: 0.9732 - 42s/epoch - 784ms/step\n",
            "Epoch 36/100\n",
            "54/54 - 42s - loss: 0.1989 - accuracy: 0.9339 - val_loss: 0.0437 - val_accuracy: 0.9841 - 42s/epoch - 787ms/step\n",
            "Epoch 37/100\n",
            "54/54 - 42s - loss: 0.1976 - accuracy: 0.9349 - val_loss: 0.0489 - val_accuracy: 0.9692 - 42s/epoch - 785ms/step\n",
            "Epoch 38/100\n",
            "54/54 - 43s - loss: 0.2034 - accuracy: 0.9307 - val_loss: 0.0337 - val_accuracy: 0.9881 - 43s/epoch - 787ms/step\n",
            "Epoch 39/100\n",
            "54/54 - 42s - loss: 0.1928 - accuracy: 0.9351 - val_loss: 0.0399 - val_accuracy: 0.9782 - 42s/epoch - 786ms/step\n",
            "Epoch 40/100\n",
            "54/54 - 42s - loss: 0.1934 - accuracy: 0.9356 - val_loss: 0.0354 - val_accuracy: 0.9881 - 42s/epoch - 784ms/step\n",
            "Epoch 41/100\n",
            "54/54 - 42s - loss: 0.1969 - accuracy: 0.9343 - val_loss: 0.0382 - val_accuracy: 0.9881 - 42s/epoch - 786ms/step\n",
            "Epoch 42/100\n",
            "54/54 - 42s - loss: 0.1856 - accuracy: 0.9370 - val_loss: 0.0637 - val_accuracy: 0.9742 - 42s/epoch - 783ms/step\n",
            "Epoch 43/100\n",
            "54/54 - 43s - loss: 0.1871 - accuracy: 0.9347 - val_loss: 0.0395 - val_accuracy: 0.9841 - 43s/epoch - 788ms/step\n",
            "Epoch 44/100\n",
            "54/54 - 42s - loss: 0.1845 - accuracy: 0.9389 - val_loss: 0.0461 - val_accuracy: 0.9742 - 42s/epoch - 786ms/step\n",
            "Epoch 45/100\n",
            "54/54 - 42s - loss: 0.1895 - accuracy: 0.9366 - val_loss: 0.0394 - val_accuracy: 0.9881 - 42s/epoch - 786ms/step\n",
            "Epoch 46/100\n",
            "54/54 - 42s - loss: 0.1843 - accuracy: 0.9366 - val_loss: 0.0353 - val_accuracy: 0.9871 - 42s/epoch - 781ms/step\n",
            "Epoch 47/100\n",
            "54/54 - 42s - loss: 0.1848 - accuracy: 0.9389 - val_loss: 0.0333 - val_accuracy: 0.9881 - 42s/epoch - 785ms/step\n",
            "Epoch 48/100\n",
            "54/54 - 42s - loss: 0.1780 - accuracy: 0.9419 - val_loss: 0.0333 - val_accuracy: 0.9851 - 42s/epoch - 785ms/step\n",
            "Epoch 49/100\n",
            "54/54 - 42s - loss: 0.1652 - accuracy: 0.9440 - val_loss: 0.0454 - val_accuracy: 0.9752 - 42s/epoch - 783ms/step\n",
            "Epoch 50/100\n",
            "54/54 - 42s - loss: 0.1785 - accuracy: 0.9405 - val_loss: 0.0364 - val_accuracy: 0.9901 - 42s/epoch - 782ms/step\n",
            "Epoch 51/100\n",
            "54/54 - 42s - loss: 0.1705 - accuracy: 0.9402 - val_loss: 0.0307 - val_accuracy: 0.9861 - 42s/epoch - 778ms/step\n",
            "Epoch 52/100\n",
            "54/54 - 42s - loss: 0.1704 - accuracy: 0.9408 - val_loss: 0.0334 - val_accuracy: 0.9861 - 42s/epoch - 782ms/step\n",
            "Epoch 53/100\n",
            "54/54 - 43s - loss: 0.1712 - accuracy: 0.9433 - val_loss: 0.0573 - val_accuracy: 0.9742 - 43s/epoch - 787ms/step\n",
            "Epoch 54/100\n",
            "54/54 - 43s - loss: 0.1682 - accuracy: 0.9438 - val_loss: 0.0430 - val_accuracy: 0.9742 - 43s/epoch - 788ms/step\n",
            "Epoch 55/100\n",
            "54/54 - 42s - loss: 0.1738 - accuracy: 0.9423 - val_loss: 0.0308 - val_accuracy: 0.9901 - 42s/epoch - 784ms/step\n",
            "Epoch 56/100\n",
            "54/54 - 42s - loss: 0.1633 - accuracy: 0.9439 - val_loss: 0.0342 - val_accuracy: 0.9831 - 42s/epoch - 786ms/step\n",
            "Epoch 57/100\n",
            "54/54 - 42s - loss: 0.1749 - accuracy: 0.9403 - val_loss: 0.0401 - val_accuracy: 0.9871 - 42s/epoch - 784ms/step\n",
            "Epoch 58/100\n",
            "54/54 - 42s - loss: 0.1646 - accuracy: 0.9432 - val_loss: 0.0350 - val_accuracy: 0.9821 - 42s/epoch - 782ms/step\n",
            "Epoch 59/100\n",
            "54/54 - 43s - loss: 0.1549 - accuracy: 0.9483 - val_loss: 0.0447 - val_accuracy: 0.9782 - 43s/epoch - 787ms/step\n",
            "Epoch 60/100\n",
            "54/54 - 42s - loss: 0.1575 - accuracy: 0.9477 - val_loss: 0.0297 - val_accuracy: 0.9921 - 42s/epoch - 780ms/step\n",
            "Epoch 61/100\n",
            "54/54 - 42s - loss: 0.1503 - accuracy: 0.9487 - val_loss: 0.0272 - val_accuracy: 0.9871 - 42s/epoch - 784ms/step\n",
            "Epoch 62/100\n",
            "54/54 - 42s - loss: 0.1553 - accuracy: 0.9451 - val_loss: 0.0419 - val_accuracy: 0.9752 - 42s/epoch - 783ms/step\n",
            "Epoch 63/100\n",
            "54/54 - 42s - loss: 0.1590 - accuracy: 0.9456 - val_loss: 0.0396 - val_accuracy: 0.9752 - 42s/epoch - 786ms/step\n",
            "Epoch 64/100\n",
            "54/54 - 42s - loss: 0.1544 - accuracy: 0.9462 - val_loss: 0.0258 - val_accuracy: 0.9940 - 42s/epoch - 786ms/step\n",
            "Epoch 65/100\n",
            "54/54 - 42s - loss: 0.1506 - accuracy: 0.9488 - val_loss: 0.0297 - val_accuracy: 0.9891 - 42s/epoch - 783ms/step\n",
            "Epoch 66/100\n",
            "54/54 - 42s - loss: 0.1490 - accuracy: 0.9488 - val_loss: 0.0315 - val_accuracy: 0.9871 - 42s/epoch - 786ms/step\n",
            "Epoch 67/100\n",
            "54/54 - 42s - loss: 0.1521 - accuracy: 0.9458 - val_loss: 0.0393 - val_accuracy: 0.9782 - 42s/epoch - 786ms/step\n",
            "Epoch 68/100\n",
            "54/54 - 42s - loss: 0.1486 - accuracy: 0.9475 - val_loss: 0.0296 - val_accuracy: 0.9881 - 42s/epoch - 783ms/step\n",
            "Epoch 69/100\n",
            "54/54 - 42s - loss: 0.1514 - accuracy: 0.9468 - val_loss: 0.0275 - val_accuracy: 0.9921 - 42s/epoch - 781ms/step\n",
            "Epoch 70/100\n",
            "54/54 - 42s - loss: 0.1429 - accuracy: 0.9502 - val_loss: 0.0384 - val_accuracy: 0.9782 - 42s/epoch - 783ms/step\n",
            "Epoch 71/100\n",
            "54/54 - 42s - loss: 0.1405 - accuracy: 0.9499 - val_loss: 0.0284 - val_accuracy: 0.9901 - 42s/epoch - 780ms/step\n",
            "Epoch 72/100\n",
            "54/54 - 42s - loss: 0.1399 - accuracy: 0.9525 - val_loss: 0.0240 - val_accuracy: 0.9901 - 42s/epoch - 779ms/step\n",
            "Epoch 73/100\n",
            "54/54 - 42s - loss: 0.1399 - accuracy: 0.9509 - val_loss: 0.0348 - val_accuracy: 0.9861 - 42s/epoch - 773ms/step\n",
            "Epoch 74/100\n",
            "54/54 - 42s - loss: 0.1363 - accuracy: 0.9518 - val_loss: 0.0417 - val_accuracy: 0.9762 - 42s/epoch - 771ms/step\n",
            "Epoch 75/100\n",
            "54/54 - 42s - loss: 0.1467 - accuracy: 0.9475 - val_loss: 0.0254 - val_accuracy: 0.9931 - 42s/epoch - 773ms/step\n",
            "Epoch 76/100\n",
            "54/54 - 42s - loss: 0.1501 - accuracy: 0.9465 - val_loss: 0.0261 - val_accuracy: 0.9911 - 42s/epoch - 772ms/step\n",
            "Epoch 77/100\n",
            "54/54 - 42s - loss: 0.1499 - accuracy: 0.9467 - val_loss: 0.0305 - val_accuracy: 0.9891 - 42s/epoch - 771ms/step\n",
            "Epoch 78/100\n",
            "54/54 - 42s - loss: 0.1426 - accuracy: 0.9511 - val_loss: 0.0245 - val_accuracy: 0.9881 - 42s/epoch - 770ms/step\n",
            "Epoch 79/100\n",
            "54/54 - 42s - loss: 0.1391 - accuracy: 0.9514 - val_loss: 0.0287 - val_accuracy: 0.9841 - 42s/epoch - 770ms/step\n",
            "Epoch 80/100\n",
            "54/54 - 42s - loss: 0.1368 - accuracy: 0.9521 - val_loss: 0.0317 - val_accuracy: 0.9901 - 42s/epoch - 772ms/step\n",
            "Epoch 81/100\n",
            "54/54 - 42s - loss: 0.1367 - accuracy: 0.9524 - val_loss: 0.0344 - val_accuracy: 0.9911 - 42s/epoch - 772ms/step\n",
            "Epoch 82/100\n",
            "54/54 - 42s - loss: 0.1355 - accuracy: 0.9533 - val_loss: 0.0322 - val_accuracy: 0.9871 - 42s/epoch - 772ms/step\n",
            "Epoch 83/100\n",
            "54/54 - 42s - loss: 0.1403 - accuracy: 0.9514 - val_loss: 0.0386 - val_accuracy: 0.9762 - 42s/epoch - 773ms/step\n",
            "Epoch 84/100\n",
            "54/54 - 42s - loss: 0.1377 - accuracy: 0.9526 - val_loss: 0.0273 - val_accuracy: 0.9851 - 42s/epoch - 772ms/step\n",
            "Epoch 85/100\n",
            "54/54 - 42s - loss: 0.1323 - accuracy: 0.9541 - val_loss: 0.0244 - val_accuracy: 0.9921 - 42s/epoch - 777ms/step\n",
            "Epoch 86/100\n",
            "54/54 - 42s - loss: 0.1276 - accuracy: 0.9543 - val_loss: 0.0256 - val_accuracy: 0.9891 - 42s/epoch - 769ms/step\n",
            "Epoch 87/100\n",
            "54/54 - 42s - loss: 0.1231 - accuracy: 0.9569 - val_loss: 0.0226 - val_accuracy: 0.9940 - 42s/epoch - 773ms/step\n",
            "Epoch 88/100\n",
            "54/54 - 42s - loss: 0.1338 - accuracy: 0.9535 - val_loss: 0.0275 - val_accuracy: 0.9911 - 42s/epoch - 773ms/step\n",
            "Epoch 89/100\n",
            "54/54 - 42s - loss: 0.1297 - accuracy: 0.9550 - val_loss: 0.0452 - val_accuracy: 0.9752 - 42s/epoch - 774ms/step\n",
            "Epoch 90/100\n",
            "54/54 - 42s - loss: 0.1293 - accuracy: 0.9532 - val_loss: 0.0312 - val_accuracy: 0.9831 - 42s/epoch - 773ms/step\n",
            "Epoch 91/100\n",
            "54/54 - 41s - loss: 0.1278 - accuracy: 0.9556 - val_loss: 0.0252 - val_accuracy: 0.9901 - 41s/epoch - 767ms/step\n",
            "Epoch 92/100\n",
            "54/54 - 42s - loss: 0.1305 - accuracy: 0.9557 - val_loss: 0.0328 - val_accuracy: 0.9772 - 42s/epoch - 772ms/step\n",
            "Epoch 93/100\n",
            "54/54 - 42s - loss: 0.1267 - accuracy: 0.9541 - val_loss: 0.0253 - val_accuracy: 0.9861 - 42s/epoch - 770ms/step\n",
            "Epoch 94/100\n",
            "54/54 - 42s - loss: 0.1265 - accuracy: 0.9554 - val_loss: 0.0264 - val_accuracy: 0.9891 - 42s/epoch - 769ms/step\n",
            "Epoch 95/100\n",
            "54/54 - 42s - loss: 0.1306 - accuracy: 0.9537 - val_loss: 0.0234 - val_accuracy: 0.9940 - 42s/epoch - 770ms/step\n",
            "Epoch 96/100\n",
            "54/54 - 42s - loss: 0.1226 - accuracy: 0.9565 - val_loss: 0.0243 - val_accuracy: 0.9940 - 42s/epoch - 770ms/step\n",
            "Epoch 97/100\n",
            "54/54 - 41s - loss: 0.1183 - accuracy: 0.9581 - val_loss: 0.0347 - val_accuracy: 0.9901 - 41s/epoch - 766ms/step\n",
            "Epoch 98/100\n",
            "54/54 - 41s - loss: 0.1219 - accuracy: 0.9573 - val_loss: 0.0268 - val_accuracy: 0.9871 - 41s/epoch - 764ms/step\n",
            "Epoch 99/100\n",
            "54/54 - 41s - loss: 0.1163 - accuracy: 0.9581 - val_loss: 0.0191 - val_accuracy: 0.9940 - 41s/epoch - 756ms/step\n",
            "Epoch 100/100\n",
            "54/54 - 41s - loss: 0.1197 - accuracy: 0.9584 - val_loss: 0.0243 - val_accuracy: 0.9940 - 41s/epoch - 753ms/step\n"
          ]
        }
      ]
    },
    {
      "cell_type": "code",
      "source": [
        "!mkdir -p ocr_model\n",
        "model.save('/content/ocr-model-Felix-3.h5')"
      ],
      "metadata": {
        "id": "6GSmBIkCbJRX"
      },
      "execution_count": null,
      "outputs": []
    },
    {
      "cell_type": "code",
      "source": [
        "# my_model directory\n",
        "!ls ocr_model\n",
        "\n",
        "# # Contains an assets folder, saved_model.pb, and variables folder.\n",
        "# !ls saved_model/my_model"
      ],
      "metadata": {
        "id": "pCkg7elc7UdQ",
        "colab": {
          "base_uri": "https://localhost:8080/"
        },
        "outputId": "25bc2ff2-31ac-40d7-f09b-e7b39442d3e5"
      },
      "execution_count": null,
      "outputs": [
        {
          "output_type": "stream",
          "name": "stdout",
          "text": [
            "ocr-model-Felix-1.h5\n"
          ]
        }
      ]
    },
    {
      "cell_type": "code",
      "source": [
        "model = tf.keras.models.load_model('/content/ocr-model-Felix-3.h5')"
      ],
      "metadata": {
        "id": "mB1fttJwxmPI"
      },
      "execution_count": null,
      "outputs": []
    },
    {
      "cell_type": "markdown",
      "source": [
        "# Predict"
      ],
      "metadata": {
        "id": "PAErGN9QXLIm"
      }
    },
    {
      "cell_type": "code",
      "source": [
        "img = cv2.imread(\"/content/2-transparent-35377.png\")\n",
        "img = cv2.resize(img, (128,128))\n",
        "img = cv2.cvtColor(img, cv2.COLOR_BGR2GRAY)\n",
        "plt.imshow(img)\n",
        "plt.show()\n",
        "\n",
        "img = np.array(img, dtype = 'float32')\n",
        "img = np.expand_dims(img, axis = 2)\n",
        "img = img.reshape(-1, 128, 128, 1)\n",
        "prediction = model.predict(img)\n",
        "np.argmax(prediction)\n",
        "\n",
        "labelNames = \"0123456789\"\n",
        "labelNames += \"ABCDEFGHIJKLMNOPQRSTUVWXYZ\"\n",
        "print(\"\\npredict: {}\".format(labelNames[np.argmax(prediction)]))"
      ],
      "metadata": {
        "id": "4sIJ5x3WC-RU",
        "colab": {
          "base_uri": "https://localhost:8080/",
          "height": 303
        },
        "outputId": "ac25733a-18f9-4fa6-aa8a-f8999b9cf7e8"
      },
      "execution_count": null,
      "outputs": [
        {
          "output_type": "display_data",
          "data": {
            "text/plain": [
              "<Figure size 432x288 with 1 Axes>"
            ],
            "image/png": "[encoded data removed]"
          },
          "metadata": {
            "needs_background": "light"
          }
        },
        {
          "output_type": "stream",
          "name": "stdout",
          "text": [
            "\n",
            "predict: 2\n"
          ]
        }
      ]
    },
    {
      "cell_type": "code",
      "source": [
        "# labelNames = \"0123456789\"\n",
        "\n",
        "# labelNames += \"ABCDEFGHIJKLMNOPQRSTUVWXYZ\"\n",
        "\n",
        "# labelNames = [l for l in labelNames]\n",
        "\n",
        "# predictions = model.predict('/content/2-transparent-35377.png')\n",
        "\n",
        "# print(classification_report(testY.argmax(axis=1), predictions.argmax(axis=1), target_names=labelNames))\n"
      ],
      "metadata": {
        "id": "FEEQ1O8j84zo"
      },
      "execution_count": null,
      "outputs": []
    },
    {
      "cell_type": "code",
      "source": [
        "# img = cv2.imread(\"/content/download (1).png\")\n",
        "# # img - np.invert(np.array([img]))\n",
        "# prediction = model.predict(img)\n",
        "# print(np.argmax(prediction))"
      ],
      "metadata": {
        "id": "wfXEM_sU29p6"
      },
      "execution_count": null,
      "outputs": []
    }
  ]
}